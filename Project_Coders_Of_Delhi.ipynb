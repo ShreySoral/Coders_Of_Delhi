{
 "cells": [
  {
   "cell_type": "markdown",
   "id": "373f1048-27de-4027-8a96-9d1cf2ea6ba3",
   "metadata": {},
   "source": [
    "# Welcome to CodeBook – Your Data Science Internship Begins!\n",
    "\n",
    "## **Introduction**\n",
    "Congratulations! You have just been hired as a **Data Scientist Intern** at **CodeBook – The Social Media for Coders**. This Delhi based company is offering you a **₹10 LPA job** if you successfully complete this **1-month internship**. But before you get there, you must prove your skills using **only Python**—no pandas, NumPy, or fancy libraries!\n",
    "\n",
    "Your manager Puneet Kumar has assigned you your **first task**: analyzing a data dump of CodeBook users using pure python. Your job is to **load and explore the data** to understand its structure.\n",
    "\n",
    "---\n",
    "\n",
    "## **Task 1: Load the User Data**\n",
    "Your manager has given you a dataset containing information about CodeBook users, their connections (friends), and the pages they have liked.\n",
    "\n",
    "This is how the data will look like (in JSON format):\n",
    "```json\n",
    "{\n",
    "    \"users\": [\n",
    "        {\"id\": 1, \"name\": \"Amit\", \"friends\": [2, 3], \"liked_pages\": [101]},\n",
    "        {\"id\": 2, \"name\": \"Priya\", \"friends\": [1, 4], \"liked_pages\": [102]},\n",
    "        {\"id\": 3, \"name\": \"Rahul\", \"friends\": [1], \"liked_pages\": [101, 103]},\n",
    "        {\"id\": 4, \"name\": \"Sara\", \"friends\": [2], \"liked_pages\": [104]}\n",
    "    ],\n",
    "    \"pages\": [\n",
    "        {\"id\": 101, \"name\": \"Python Developers\"},\n",
    "        {\"id\": 102, \"name\": \"Data Science Enthusiasts\"},\n",
    "        {\"id\": 103, \"name\": \"AI & ML Community\"},\n",
    "        {\"id\": 104, \"name\": \"Web Dev Hub\"}\n",
    "    ]\n",
    "}\n",
    "```\n",
    "Read this data and understand its structure. The data contains three main components:\n",
    "1. **Users**: Each user has an ID, name, a list of friends (by their IDs), and a list of liked pages (by their IDs).\n",
    "2. **Pages**: Each page has an ID and a name.\n",
    "3. **Connections**: Users can have multiple friends and can like multiple pages.\n",
    "\n",
    "---\n",
    "\n",
    "## **Task 2: Read and Display the Data using Python**\n",
    "Your goal is to **load** this data and **print** it in a structured way. Use Python's built-in modules to accomplish this.\n",
    "\n",
    "### **Steps:**\n",
    "1. Save the JSON data in a file (`codebook_data.json`).\n",
    "2. Read the JSON file using Python.\n",
    "3. Print user details and their connections.\n",
    "4. Print available pages.\n",
    "\n",
    "---\n",
    "\n",
    "## **Code Implementation**\n",
    "Here's a simple way to load and display the data:\n",
    "\n",
    "```python\n",
    "import json\n",
    "\n",
    "# Load the JSON file\n",
    "def load_data(filename):\n",
    "    with open(filename, \"r\") as file:\n",
    "        data = json.load(file)\n",
    "    return data\n",
    "\n",
    "# Display users and their connections\n",
    "def display_users(data):\n",
    "    print(\"Users and Their Connections:\\n\")\n",
    "    for user in data[\"users\"]:\n",
    "        print(f\"{user['name']} (ID: {user['id']}) - Friends: {user['friends']} - Liked Pages: {user['liked_pages']}\")\n",
    "    print(\"\\nPages:\\n\")\n",
    "    for page in data[\"pages\"]:\n",
    "        print(f\"{page['id']}: {page['name']}\")\n",
    "\n",
    "# Load and display the data\n",
    "data = load_data(\"codebook_data.json\")\n",
    "display_users(data)\n",
    "```\n",
    "\n",
    "---\n",
    "\n",
    "## **Expected Output:**\n",
    "```\n",
    "Users and Their Connections:\n",
    "Amit (ID: 1) - Friends: [2, 3] - Liked Pages: [101]\n",
    "Priya (ID: 2) - Friends: [1, 4] - Liked Pages: [102]\n",
    "Rahul (ID: 3) - Friends: [1] - Liked Pages: [101, 103]\n",
    "Sara (ID: 4) - Friends: [2] - Liked Pages: [104]\n",
    "\n",
    "Pages:\n",
    "101: Python Developers\n",
    "102: Data Science Enthusiasts\n",
    "103: AI & ML Community\n",
    "104: Web Dev Hub\n",
    "```\n",
    "\n",
    "---\n",
    "\n",
    "## **Next Steps**\n",
    "Your manager is happy with your progress but says: **\"The data looks messy. Can you clean and structure it better?\"**\n",
    " \n",
    "\n"
   ]
  },
  {
   "cell_type": "code",
   "execution_count": 4,
   "id": "ca083848-f78c-4493-b193-237eef639881",
   "metadata": {},
   "outputs": [],
   "source": [
    "import json "
   ]
  },
  {
   "cell_type": "code",
   "execution_count": 5,
   "id": "82b58d6f-315c-41df-9a49-a3c24c7d338f",
   "metadata": {},
   "outputs": [],
   "source": [
    "def load_data(file):\n",
    "    with open(file,\"r\") as f:\n",
    "        data=json.load(f)\n",
    "    return data"
   ]
  },
  {
   "cell_type": "code",
   "execution_count": 6,
   "id": "55c467ec-ba2b-48e5-bbf6-180d586dfec3",
   "metadata": {},
   "outputs": [],
   "source": [
    "data=load_data(\"data.json\")"
   ]
  },
  {
   "cell_type": "code",
   "execution_count": 7,
   "id": "f3978cb3-64af-4861-878a-3a23ccf1e8ce",
   "metadata": {},
   "outputs": [
    {
     "data": {
      "text/plain": [
       "{'users': [{'id': 1, 'name': 'Amit', 'friends': [2, 3], 'liked_pages': [101]},\n",
       "  {'id': 2, 'name': 'Priya', 'friends': [1, 4], 'liked_pages': [102]},\n",
       "  {'id': 3, 'name': 'Rahul', 'friends': [1], 'liked_pages': [101, 103]},\n",
       "  {'id': 4, 'name': 'Sara', 'friends': [2], 'liked_pages': [104]}],\n",
       " 'pages': [{'id': 101, 'name': 'Python Developers'},\n",
       "  {'id': 102, 'name': 'Data Science Enthusiasts'},\n",
       "  {'id': 103, 'name': 'AI & ML Community'},\n",
       "  {'id': 104, 'name': 'Web Dev Hub'}]}"
      ]
     },
     "execution_count": 7,
     "metadata": {},
     "output_type": "execute_result"
    }
   ],
   "source": [
    "data"
   ]
  },
  {
   "cell_type": "code",
   "execution_count": 8,
   "id": "2287874e-a10a-43d3-87c8-7b96482b7430",
   "metadata": {},
   "outputs": [
    {
     "data": {
      "text/plain": [
       "dict"
      ]
     },
     "execution_count": 8,
     "metadata": {},
     "output_type": "execute_result"
    }
   ],
   "source": [
    "type(data)"
   ]
  },
  {
   "cell_type": "code",
   "execution_count": 9,
   "id": "746de87c-4bc2-4b31-a6a1-360b0b4e1be4",
   "metadata": {},
   "outputs": [
    {
     "name": "stdout",
     "output_type": "stream",
     "text": [
      "users and their connections: \n",
      "\n",
      "1 Amit is friends with: [2, 3] and liked pages are [101]\n",
      "2 Priya is friends with: [1, 4] and liked pages are [102]\n",
      "3 Rahul is friends with: [1] and liked pages are [101, 103]\n",
      "4 Sara is friends with: [2] and liked pages are [104]\n",
      "\n",
      "pages information\n",
      "101: Python Developers\n",
      "102: Data Science Enthusiasts\n",
      "103: AI & ML Community\n",
      "104: Web Dev Hub\n"
     ]
    }
   ],
   "source": [
    "# display users and the connections\n",
    "def display_users(data):\n",
    "    print(\"users and their connections: \\n\")\n",
    "    for user in data['users']:\n",
    "        print(f\"{user['id']} {user['name']} is friends with: {user[\"friends\"]} and liked pages are {user[\"liked_pages\"]}\" )\n",
    "    print(\"\\npages information\")\n",
    "    for page in data['pages']:\n",
    "        print(f\"{page['id']}: {page['name']}\")\n",
    "\n",
    "display_users(data)\n",
    "     # for users in data['users']:\n",
    "     #    print(f\"{user['name']} is friends with: {user[\"friends\"]}\" )\n",
    "        "
   ]
  },
  {
   "cell_type": "code",
   "execution_count": 10,
   "id": "f29c5174-ce62-4834-afbc-4a93c4d4a2e7",
   "metadata": {},
   "outputs": [
    {
     "name": "stdout",
     "output_type": "stream",
     "text": [
      "Data has been cleaned successfully!\n",
      "\n"
     ]
    }
   ],
   "source": [
    "def clean_data(data):\n",
    "    # Remove users with missing or empty names (after stripping whitespace)\n",
    "    data[\"users\"] = [user for user in data[\"users\"] if user.get(\"name\", \"\").strip()]\n",
    "    # remove duplicate friends\n",
    "    for user in data['users']:\n",
    "        user['friends']=list(set(user['friends']))\n",
    "    # remove inactive users \n",
    "    data['users']=[user for user in data['users'] if user['friends'] or user['liked_pages']]\n",
    "\n",
    "    # remove the duplicate pages \n",
    "    unique_pages={}\n",
    "    for page in data['pages']:\n",
    "        unique_pages[page['id']]=page\n",
    "    data['pages']=list(unique_pages.values())\n",
    "    return data\n",
    "\n",
    "# Load data from JSON file\n",
    "with open(\"data2.json\", \"r\") as f:\n",
    "    data = json.load(f)\n",
    "\n",
    "# Clean the data\n",
    "data = clean_data(data)\n",
    "\n",
    "# Save cleaned data to a new JSON file\n",
    "with open(\"cleaned_data2.json\", \"w\") as f:\n",
    "    json.dump(data, f, indent=4)\n",
    "\n",
    "print(\"Data has been cleaned successfully!\\n\")\n"
   ]
  },
  {
   "cell_type": "code",
   "execution_count": 12,
   "id": "c282231f-0fda-42d5-b09c-a191d4a6da0b",
   "metadata": {},
   "outputs": [
    {
     "name": "stdout",
     "output_type": "stream",
     "text": [
      "People You May Know for User 1: [4]\n"
     ]
    }
   ],
   "source": [
    "def load_data(filename):\n",
    "    with open(filename, \"r\") as file:\n",
    "        return json.load(file)\n",
    "\n",
    "def find_people_you_may_know(user_id, data):\n",
    "    user_friends = {}\n",
    "    for user in data[\"users\"]:\n",
    "        user_friends[user[\"id\"]] = set(user[\"friends\"])\n",
    "    \n",
    "    if user_id not in user_friends:\n",
    "        return []\n",
    "    \n",
    "    direct_friends = user_friends[user_id]\n",
    "    suggestions = {}\n",
    "    \n",
    "    for friend in direct_friends:\n",
    "        # For all friends of friend\n",
    "        for mutual in user_friends[friend]:\n",
    "            # If mutual id is not the same user and not already a direct friend of user\n",
    "            if mutual != user_id and mutual not in direct_friends:\n",
    "                # Count mutual friends\n",
    "                suggestions[mutual] = suggestions.get(mutual, 0) + 1\n",
    "    \n",
    "    sorted_suggestions = sorted(suggestions.items(), key=lambda x: x[1], reverse=True)\n",
    "    return [user_id for user_id, _ in sorted_suggestions]\n",
    "\n",
    "# Load data\n",
    "data = load_data(\"cleaned_codebook_data.json\")\n",
    "user_id = 1  # Example: Finding suggestions for Amit\n",
    "recommendations = find_people_you_may_know(user_id, data)\n",
    "print(f\"People You May Know for User {user_id}: {recommendations}\")"
   ]
  },
  {
   "cell_type": "code",
   "execution_count": null,
   "id": "386f7442-e136-40db-a649-fbb98206d976",
   "metadata": {},
   "outputs": [],
   "source": []
  }
 ],
 "metadata": {
  "kernelspec": {
   "display_name": "Python 3 (ipykernel)",
   "language": "python",
   "name": "python3"
  },
  "language_info": {
   "codemirror_mode": {
    "name": "ipython",
    "version": 3
   },
   "file_extension": ".py",
   "mimetype": "text/x-python",
   "name": "python",
   "nbconvert_exporter": "python",
   "pygments_lexer": "ipython3",
   "version": "3.13.2"
  }
 },
 "nbformat": 4,
 "nbformat_minor": 5
}
